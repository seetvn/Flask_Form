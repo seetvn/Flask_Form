{
  "nbformat": 4,
  "nbformat_minor": 0,
  "metadata": {
    "colab": {
      "provenance": [],
      "include_colab_link": true
    },
    "kernelspec": {
      "name": "python3",
      "display_name": "Python 3"
    },
    "language_info": {
      "name": "python"
    }
  },
  "cells": [
    {
      "cell_type": "markdown",
      "metadata": {
        "id": "view-in-github",
        "colab_type": "text"
      },
      "source": [
        "<a href=\"https://colab.research.google.com/github/seetvn/Flask_Form/blob/main/Copy_of_CM20315_Coursework_I.ipynb\" target=\"_parent\"><img src=\"https://colab.research.google.com/assets/colab-badge.svg\" alt=\"Open In Colab\"/></a>"
      ]
    },
    {
      "cell_type": "markdown",
      "source": [
        "# Coursework I -- Model hyperparameters\n",
        "\n",
        "The goal of the coursework is to modify a simple bit of numpy code that trains a network and measures the performance on a validation set for the MNist 1D dataset. \n",
        "\n",
        "In this coursework, you need to modify the **model hyperparameters** (only) to improve the performance over the current attempt.  This could mean the number of layers, the number of hidden units per layer, or the type of activation function, or any combination of the three. \n",
        "\n",
        "The only constraint is that you MUST use a fully connected network (no convolutional networks for now if you have read ahead in the book).\n",
        "\n",
        "You don't have to improve the performance much.  A few tenths of a percent is fine.  It just has to be better to get full marks.\n",
        "\n",
        "You will need to upload three things to Moodle:\n",
        "1.   The image that this notebook saves (click the folder icon on the left on colab to download it)\n",
        "2.   The lines of code you changed\n",
        "3.   The whole notebook as a .ipynb file.  You can do this on the File menu\n",
        "\n",
        "\n"
      ],
      "metadata": {
        "id": "t9vk9Elugvmi"
      }
    },
    {
      "cell_type": "code",
      "source": [
        "import numpy as np\n",
        "import os\n",
        "import torch, torch.nn as nn\n",
        "from torch.utils.data import TensorDataset, DataLoader\n",
        "from torch.optim.lr_scheduler import StepLR\n",
        "import matplotlib.pyplot as plt\n",
        "import random"
      ],
      "metadata": {
        "id": "YrXWAH7sUWvU"
      },
      "execution_count": null,
      "outputs": []
    },
    {
      "cell_type": "code",
      "source": [
        "# Run this once to copy the train and validation data to your CoLab environment \n",
        "# or download from my github to your local machine if you are doing this locally\n",
        "if not os.path.exists('./train_data_x.npy'):\n",
        "  !wget https://github.com/udlbook/udlbook/raw/main/practicals/train_data_x.npy\n",
        "  !wget https://github.com/udlbook/udlbook/raw/main/practicals/train_data_y.npy\n",
        "  !wget https://github.com/udlbook/udlbook/raw/main/practicals/val_data_x.npy\n",
        "  !wget https://github.com/udlbook/udlbook/raw/main/practicals/val_data_y.npy  "
      ],
      "metadata": {
        "id": "wScBGXXFVadm"
      },
      "execution_count": null,
      "outputs": []
    },
    {
      "cell_type": "code",
      "source": [
        "# Load in the data\n",
        "train_data_x = np.load('train_data_x.npy')\n",
        "train_data_y = np.load('train_data_y.npy')\n",
        "val_data_x = np.load('val_data_x.npy')\n",
        "val_data_y = np.load('val_data_y.npy')\n",
        "# Print out sizes\n",
        "print(\"Train data: %d examples (columns), each of which has %d dimensions (rows)\"%((train_data_x.shape[1],train_data_x.shape[0])))\n",
        "print(\"Validation data: %d examples (columns), each of which has %d dimensions (rows)\"%((val_data_x.shape[1],val_data_x.shape[0])))"
      ],
      "metadata": {
        "id": "8bKADvLHbiV5",
        "colab": {
          "base_uri": "https://localhost:8080/"
        },
        "outputId": "489f65a7-4ed4-4592-9c1e-a99eb1406554"
      },
      "execution_count": null,
      "outputs": [
        {
          "output_type": "stream",
          "name": "stdout",
          "text": [
            "Train data: 4000 examples (columns), each of which has 40 dimensions (rows)\n",
            "Validation data: 2000 examples (columns), each of which has 40 dimensions (rows)\n"
          ]
        }
      ]
    },
    {
      "cell_type": "markdown",
      "source": [
        "Define the network"
      ],
      "metadata": {
        "id": "_sFvRDGrl4qe"
      }
    },
    {
      "cell_type": "code",
      "source": [
        "\n",
        "\n",
        "# There are 40 input dimensions and 10 output dimensions for this data\n",
        "# The inputs correspond to the 40 offsets in the MNIST1D template.\n",
        "D_i = 40\n",
        "# The outputs correspond to the 10 digits\n",
        "D_o = 10\n",
        "\n",
        "# Number of hidden units in layers 1 and 2\n",
        "D_1 = 200\n",
        "D_2 = 200\n",
        "D_3=200\n",
        "D_4=200\n",
        "\n",
        "# create model with two hidden layers\n",
        "model = nn.Sequential(\n",
        "nn.Linear(D_i, D_1),\n",
        "nn.ReLU(),\n",
        "nn.Linear(D_1, D_2),\n",
        "nn.ReLU(),\n",
        "nn.Linear(D_2, D_3),\n",
        "nn.ReLU(),\n",
        "nn.Linear(D_3,D_4),\n",
        "nn.ReLU(),\n",
        "nn.Linear(D_4,D_o))"
      ],
      "metadata": {
        "id": "FslroPJJffrh"
      },
      "execution_count": null,
      "outputs": []
    },
    {
      "cell_type": "code",
      "source": [
        "# He initialization of weights\n",
        "def weights_init(layer_in):\n",
        "  if isinstance(layer_in, nn.Linear):\n",
        "    nn.init.kaiming_uniform_(layer_in.weight)\n",
        "    layer_in.bias.data.fill_(0.0)"
      ],
      "metadata": {
        "id": "YgLaex1pfhqz"
      },
      "execution_count": null,
      "outputs": []
    },
    {
      "cell_type": "code",
      "source": [
        "# You need all this stuff to ensure that PyTorch is deterministic\n",
        "def set_seed(seed):\n",
        "    torch.manual_seed(seed)\n",
        "    torch.cuda.manual_seed_all(seed)\n",
        "    torch.backends.cudnn.deterministic = True\n",
        "    torch.backends.cudnn.benchmark = False\n",
        "    np.random.seed(seed)\n",
        "    random.seed(seed)\n",
        "    os.environ['PYTHONHASHSEED'] = str(seed)"
      ],
      "metadata": {
        "id": "zXRmxCQNnL_M"
      },
      "execution_count": null,
      "outputs": []
    },
    {
      "cell_type": "code",
      "source": [
        "# Set seed so always get same result (do not change)\n",
        "set_seed(1)\n",
        "\n",
        "# choose cross entropy loss function (equation 5.24 in the loss notes)\n",
        "loss_function = nn.CrossEntropyLoss()\n",
        "# construct SGD optimizer and initialize learning rate and momentum\n",
        "optimizer = torch.optim.SGD(model.parameters(), lr = 0.05, momentum=0.9)\n",
        "# object that decreases learning rate by half every 10 epochs\n",
        "scheduler = StepLR(optimizer, step_size=10, gamma=0.5)\n",
        "# create 100 dummy data points and store in data loader class\n",
        "x_train = torch.tensor(train_data_x.transpose().astype('float32'))\n",
        "y_train = torch.tensor(train_data_y.astype('long'))\n",
        "x_val= torch.tensor(val_data_x.transpose().astype('float32'))\n",
        "y_val = torch.tensor(val_data_y.astype('long'))\n",
        "\n",
        "# load the data into a class that creates the batches\n",
        "data_loader = DataLoader(TensorDataset(x_train,y_train), batch_size=100, shuffle=True, worker_init_fn=np.random.seed(1))\n",
        "\n",
        "# Initialize model weights\n",
        "model.apply(weights_init)\n",
        "\n",
        "# loop over the dataset n_epoch times\n",
        "n_epoch = 50\n",
        "# store the loss and the % correct at each epoch\n",
        "losses_train = np.zeros((n_epoch))\n",
        "errors_train = np.zeros((n_epoch))\n",
        "losses_val = np.zeros((n_epoch))\n",
        "errors_val = np.zeros((n_epoch))\n",
        "\n",
        "for epoch in range(n_epoch):\n",
        "  # loop over batches\n",
        "  for i, data in enumerate(data_loader):\n",
        "    # retrieve inputs and labels for this batch\n",
        "    x_batch, y_batch = data\n",
        "    # zero the parameter gradients\n",
        "    optimizer.zero_grad()\n",
        "    # forward pass -- calculate model output\n",
        "    pred = model(x_batch)\n",
        "    # compute the lss\n",
        "    loss = loss_function(pred, y_batch)\n",
        "    # backward pass\n",
        "    loss.backward()\n",
        "    # SGD update\n",
        "    optimizer.step()\n",
        "\n",
        "  # Run whole dataset to get statistics -- normally wouldn't do this\n",
        "  pred_train = model(x_train)\n",
        "  pred_val = model(x_val)\n",
        "  _, predicted_train_class = torch.max(pred_train.data, 1)\n",
        "  _, predicted_val_class = torch.max(pred_val.data, 1)\n",
        "  errors_train[epoch] = 100 - 100 * (predicted_train_class == y_train).float().sum() / len(y_train)\n",
        "  errors_val[epoch]= 100 - 100 * (predicted_val_class == y_val).float().sum() / len(y_val)\n",
        "  losses_train[epoch] = loss_function(pred_train, y_train).item()\n",
        "  losses_val[epoch]= loss_function(pred_val, y_val).item()\n",
        "  print(f'Epoch {epoch:5d}, train loss {losses_train[epoch]:.6f}, train error {errors_train[epoch]:3.2f},  val loss {losses_val[epoch]:.6f}, percent error {errors_val[epoch]:3.2f}')\n",
        "  \n",
        "  # tell scheduler to consider updating learning rate\n",
        "  scheduler.step()\n",
        "\n",
        "# Plot the results\n",
        "fig, ax = plt.subplots()\n",
        "ax.plot(errors_train,'r-',label='train')\n",
        "ax.plot(errors_val,'b-',label='validation')\n",
        "ax.set_ylim(0,100); ax.set_xlim(0,n_epoch)\n",
        "ax.set_xlabel('Epoch'); ax.set_ylabel('Error')\n",
        "ax.set_title('Part I: Validation Result %3.2f'%(errors_val[-1]))\n",
        "ax.legend()\n",
        "ax.plot([0,n_epoch],[37.45, 37.45],'k:') # Original results. You should be better than this!\n",
        "plt.savefig('Coursework_I_Results.png',format='png')\n",
        "plt.show()"
      ],
      "metadata": {
        "id": "NYw8I_3mmX5c",
        "colab": {
          "base_uri": "https://localhost:8080/",
          "height": 1000
        },
        "outputId": "484957e0-faef-419a-fb76-3e1030e3491d"
      },
      "execution_count": null,
      "outputs": [
        {
          "output_type": "stream",
          "name": "stdout",
          "text": [
            "Epoch     0, train loss 1.536081, train error 60.12,  val loss 1.651674, percent error 66.10\n",
            "Epoch     1, train loss 1.222735, train error 46.30,  val loss 1.458209, percent error 57.00\n",
            "Epoch     2, train loss 0.949765, train error 33.38,  val loss 1.324991, percent error 49.25\n",
            "Epoch     3, train loss 0.755701, train error 27.05,  val loss 1.237975, percent error 46.30\n",
            "Epoch     4, train loss 0.627336, train error 23.62,  val loss 1.235443, percent error 44.80\n",
            "Epoch     5, train loss 0.476979, train error 18.12,  val loss 1.210164, percent error 42.10\n",
            "Epoch     6, train loss 0.383687, train error 13.00,  val loss 1.241652, percent error 40.50\n",
            "Epoch     7, train loss 0.302607, train error 9.88,  val loss 1.242512, percent error 39.55\n",
            "Epoch     8, train loss 0.280486, train error 10.10,  val loss 1.298706, percent error 38.95\n",
            "Epoch     9, train loss 0.177214, train error 5.62,  val loss 1.339733, percent error 37.95\n",
            "Epoch    10, train loss 0.049953, train error 0.60,  val loss 1.224023, percent error 33.50\n",
            "Epoch    11, train loss 0.023087, train error 0.18,  val loss 1.303284, percent error 33.65\n",
            "Epoch    12, train loss 0.012049, train error 0.00,  val loss 1.357009, percent error 32.75\n",
            "Epoch    13, train loss 0.008438, train error 0.00,  val loss 1.404334, percent error 33.20\n",
            "Epoch    14, train loss 0.006371, train error 0.00,  val loss 1.448562, percent error 33.10\n",
            "Epoch    15, train loss 0.005243, train error 0.00,  val loss 1.494926, percent error 32.60\n",
            "Epoch    16, train loss 0.004465, train error 0.00,  val loss 1.518196, percent error 32.90\n",
            "Epoch    17, train loss 0.003915, train error 0.00,  val loss 1.535506, percent error 32.60\n",
            "Epoch    18, train loss 0.003387, train error 0.00,  val loss 1.565511, percent error 32.45\n",
            "Epoch    19, train loss 0.003020, train error 0.00,  val loss 1.587131, percent error 32.35\n",
            "Epoch    20, train loss 0.002868, train error 0.00,  val loss 1.595669, percent error 32.40\n",
            "Epoch    21, train loss 0.002733, train error 0.00,  val loss 1.605839, percent error 32.40\n",
            "Epoch    22, train loss 0.002611, train error 0.00,  val loss 1.615511, percent error 32.50\n",
            "Epoch    23, train loss 0.002504, train error 0.00,  val loss 1.622370, percent error 32.25\n",
            "Epoch    24, train loss 0.002399, train error 0.00,  val loss 1.632291, percent error 32.45\n",
            "Epoch    25, train loss 0.002304, train error 0.00,  val loss 1.639989, percent error 32.40\n",
            "Epoch    26, train loss 0.002217, train error 0.00,  val loss 1.648358, percent error 32.35\n",
            "Epoch    27, train loss 0.002135, train error 0.00,  val loss 1.655141, percent error 32.15\n",
            "Epoch    28, train loss 0.002059, train error 0.00,  val loss 1.663320, percent error 32.40\n",
            "Epoch    29, train loss 0.001988, train error 0.00,  val loss 1.670025, percent error 32.25\n",
            "Epoch    30, train loss 0.001953, train error 0.00,  val loss 1.672857, percent error 32.35\n",
            "Epoch    31, train loss 0.001920, train error 0.00,  val loss 1.676127, percent error 32.20\n",
            "Epoch    32, train loss 0.001889, train error 0.00,  val loss 1.678939, percent error 32.25\n",
            "Epoch    33, train loss 0.001859, train error 0.00,  val loss 1.682038, percent error 32.20\n",
            "Epoch    34, train loss 0.001829, train error 0.00,  val loss 1.685648, percent error 32.25\n",
            "Epoch    35, train loss 0.001800, train error 0.00,  val loss 1.688933, percent error 32.20\n",
            "Epoch    36, train loss 0.001772, train error 0.00,  val loss 1.692080, percent error 32.35\n",
            "Epoch    37, train loss 0.001745, train error 0.00,  val loss 1.694250, percent error 32.25\n",
            "Epoch    38, train loss 0.001718, train error 0.00,  val loss 1.697703, percent error 32.35\n",
            "Epoch    39, train loss 0.001693, train error 0.00,  val loss 1.700226, percent error 32.30\n",
            "Epoch    40, train loss 0.001680, train error 0.00,  val loss 1.701671, percent error 32.30\n",
            "Epoch    41, train loss 0.001668, train error 0.00,  val loss 1.703734, percent error 32.25\n",
            "Epoch    42, train loss 0.001656, train error 0.00,  val loss 1.704701, percent error 32.35\n",
            "Epoch    43, train loss 0.001644, train error 0.00,  val loss 1.706161, percent error 32.25\n",
            "Epoch    44, train loss 0.001632, train error 0.00,  val loss 1.707888, percent error 32.25\n",
            "Epoch    45, train loss 0.001620, train error 0.00,  val loss 1.709340, percent error 32.25\n",
            "Epoch    46, train loss 0.001609, train error 0.00,  val loss 1.710284, percent error 32.35\n",
            "Epoch    47, train loss 0.001597, train error 0.00,  val loss 1.712114, percent error 32.20\n",
            "Epoch    48, train loss 0.001586, train error 0.00,  val loss 1.713285, percent error 32.35\n",
            "Epoch    49, train loss 0.001576, train error 0.00,  val loss 1.714530, percent error 32.30\n"
          ]
        },
        {
          "output_type": "display_data",
          "data": {
            "text/plain": [
              "<Figure size 432x288 with 1 Axes>"
            ],
            "image/png": "[encoded data removed]"
          },
          "metadata": {
            "needs_background": "light"
          }
        }
      ]
    },
    {
      "cell_type": "code",
      "source": [
        "# Leave this all commented for now\n",
        "# We'll see how well you did on the test data after the coursework is submitted\n",
        "\n",
        "# if not os.path.exists('./test_data_x.npy'):\n",
        "#   !wget https://github.com/udlbook/udlbook/raw/main/practicals/test_data_x.npy\n",
        "#   !wget https://github.com/udlbook/udlbook/raw/main/practicals/test_data_y.npy\n",
        "\n",
        "\n",
        "# # I haven't given you this yet, leave commented\n",
        "# test_data_x = np.load('test_data_x.npy')\n",
        "# test_data_y = np.load('test_data_y.npy')\n",
        "# x_test = torch.tensor(test_data_x.transpose().astype('float32'))\n",
        "# y_test = torch.tensor(test_data_y.astype('long'))\n",
        "# pred_test = model(x_test)\n",
        "# _, predicted_test_class = torch.max(pred_test.data, 1)\n",
        "# errors_test = 100 - 100 * (predicted_test_class == y_test).float().sum() / len(y_test)\n",
        "# print(\"Test error = %3.3f\"%(errors_test))"
      ],
      "metadata": {
        "id": "O7nBz-R84QdJ"
      },
      "execution_count": null,
      "outputs": []
    }
  ]
}